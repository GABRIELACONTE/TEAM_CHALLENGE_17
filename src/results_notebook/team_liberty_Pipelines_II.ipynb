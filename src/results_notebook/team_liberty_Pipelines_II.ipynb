{
 "cells": [
  {
   "cell_type": "code",
   "execution_count": 8,
   "metadata": {},
   "outputs": [
    {
     "name": "stdout",
     "output_type": "stream",
     "text": [
      "Predicciones: [168021.3  180000.   144000.   222201.3  230012.16  39997.45 105000.\n",
      " 100000.    29986.41 153076.2 ]\n",
      "✅ Predicciones guardadas en salaries_test_with_predictions.csv\n"
     ]
    }
   ],
   "source": [
    "import pandas as pd\n",
    "import joblib\n",
    "import numpy as np\n",
    "\n",
    "# Crear una función para el logaritmo\n",
    "def log_transform(x):\n",
    "    return np.log1p(x)  # Usamos log1p para evitar problemas con ceros\n",
    "\n",
    "\n",
    "\n",
    "# 1️⃣ Cargar el pipeline guardado (cambia el nombre según el modelo que quieras)\n",
    "pipeline = joblib.load(\"../models/pipeline_Random_Forest.joblib\")\n",
    "\n",
    "# 2️⃣ Cargar el dataset de test\n",
    "test_set = pd.read_csv(\"../data/salaries_test.csv\")\n",
    "\n",
    "# 3️⃣ Separar X_test\n",
    "X_test = test_set.copy()\n",
    "y_test = X_test['salary_in_usd']  # Si quieres comparar luego\n",
    "\n",
    "# 4️⃣ Hacer predicciones\n",
    "predictions = pipeline.predict(X_test)\n",
    "\n",
    "# 5️⃣ Mostrar o guardar las predicciones\n",
    "print(\"Predicciones:\", predictions[:10])  # Mostramos las primeras 10\n",
    "\n",
    "# 6️⃣ Opcional: Guardar en CSV\n",
    "output = X_test.copy()\n",
    "output['Predicted_Salary'] = predictions\n",
    "output.to_csv(\"../data/salaries_test_with_predictions.csv\", index=False)\n",
    "print(\"✅ Predicciones guardadas en salaries_test_with_predictions.csv\")"
   ]
  }
 ],
 "metadata": {
  "kernelspec": {
   "display_name": ".venv",
   "language": "python",
   "name": "python3"
  },
  "language_info": {
   "codemirror_mode": {
    "name": "ipython",
    "version": 3
   },
   "file_extension": ".py",
   "mimetype": "text/x-python",
   "name": "python",
   "nbconvert_exporter": "python",
   "pygments_lexer": "ipython3",
   "version": "3.13.0"
  }
 },
 "nbformat": 4,
 "nbformat_minor": 2
}
